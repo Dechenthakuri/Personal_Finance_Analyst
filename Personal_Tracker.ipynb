{
 "cells": [
  {
   "cell_type": "code",
   "execution_count": 26,
   "id": "42264883-1eed-44be-80ea-4b7d5c60c4e5",
   "metadata": {},
   "outputs": [],
   "source": [
    "import pandas as pd"
   ]
  },
  {
   "cell_type": "code",
   "execution_count": 28,
   "id": "6e6662b4-bc65-4198-9d09-6ee7fe72d2e6",
   "metadata": {},
   "outputs": [],
   "source": [
    "df= pd.read_csv(\"personal_finance_data.csv\")"
   ]
  },
  {
   "cell_type": "code",
   "execution_count": 30,
   "id": "eb8d4df5-ac1e-4cff-9a59-5ffb6180f4f4",
   "metadata": {},
   "outputs": [
    {
     "data": {
      "text/html": [
       "<div>\n",
       "<style scoped>\n",
       "    .dataframe tbody tr th:only-of-type {\n",
       "        vertical-align: middle;\n",
       "    }\n",
       "\n",
       "    .dataframe tbody tr th {\n",
       "        vertical-align: top;\n",
       "    }\n",
       "\n",
       "    .dataframe thead th {\n",
       "        text-align: right;\n",
       "    }\n",
       "</style>\n",
       "<table border=\"1\" class=\"dataframe\">\n",
       "  <thead>\n",
       "    <tr style=\"text-align: right;\">\n",
       "      <th></th>\n",
       "      <th>Date / Time</th>\n",
       "      <th>Mode</th>\n",
       "      <th>Category</th>\n",
       "      <th>Sub category</th>\n",
       "      <th>Income/Expense</th>\n",
       "      <th>Debit/Credit</th>\n",
       "    </tr>\n",
       "  </thead>\n",
       "  <tbody>\n",
       "    <tr>\n",
       "      <th>0</th>\n",
       "      <td>Friday, January 1, 2021</td>\n",
       "      <td>CUB - online payment</td>\n",
       "      <td>Allowance</td>\n",
       "      <td>From dad</td>\n",
       "      <td>Income</td>\n",
       "      <td>8000.0</td>\n",
       "    </tr>\n",
       "    <tr>\n",
       "      <th>1</th>\n",
       "      <td>Friday, January 1, 2021</td>\n",
       "      <td>CUB - online payment</td>\n",
       "      <td>Food</td>\n",
       "      <td>Snacks</td>\n",
       "      <td>Expense</td>\n",
       "      <td>85.0</td>\n",
       "    </tr>\n",
       "    <tr>\n",
       "      <th>2</th>\n",
       "      <td>Sunday, January 3, 2021</td>\n",
       "      <td>CUB - online payment</td>\n",
       "      <td>Other</td>\n",
       "      <td>From dad</td>\n",
       "      <td>Income</td>\n",
       "      <td>500.0</td>\n",
       "    </tr>\n",
       "    <tr>\n",
       "      <th>3</th>\n",
       "      <td>Sunday, January 3, 2021</td>\n",
       "      <td>CUB - online payment</td>\n",
       "      <td>Household</td>\n",
       "      <td>Stuffs</td>\n",
       "      <td>Expense</td>\n",
       "      <td>6667.0</td>\n",
       "    </tr>\n",
       "    <tr>\n",
       "      <th>4</th>\n",
       "      <td>Sunday, January 3, 2021</td>\n",
       "      <td>CUB - online payment</td>\n",
       "      <td>Transportation</td>\n",
       "      <td>Metro</td>\n",
       "      <td>Expense</td>\n",
       "      <td>30.0</td>\n",
       "    </tr>\n",
       "  </tbody>\n",
       "</table>\n",
       "</div>"
      ],
      "text/plain": [
       "               Date / Time                  Mode        Category Sub category  \\\n",
       "0  Friday, January 1, 2021  CUB - online payment       Allowance     From dad   \n",
       "1  Friday, January 1, 2021  CUB - online payment            Food       Snacks   \n",
       "2  Sunday, January 3, 2021  CUB - online payment           Other     From dad   \n",
       "3  Sunday, January 3, 2021  CUB - online payment       Household       Stuffs   \n",
       "4  Sunday, January 3, 2021  CUB - online payment  Transportation        Metro   \n",
       "\n",
       "  Income/Expense  Debit/Credit  \n",
       "0         Income        8000.0  \n",
       "1        Expense          85.0  \n",
       "2         Income         500.0  \n",
       "3        Expense        6667.0  \n",
       "4        Expense          30.0  "
      ]
     },
     "execution_count": 30,
     "metadata": {},
     "output_type": "execute_result"
    }
   ],
   "source": [
    "df.head()"
   ]
  },
  {
   "cell_type": "code",
   "execution_count": 32,
   "id": "89552ec0-812a-4680-89f6-50deb1b688c7",
   "metadata": {},
   "outputs": [
    {
     "data": {
      "text/plain": [
       "Date / Time       0\n",
       "Mode              0\n",
       "Category          0\n",
       "Sub category      0\n",
       "Income/Expense    0\n",
       "Debit/Credit      0\n",
       "dtype: int64"
      ]
     },
     "execution_count": 32,
     "metadata": {},
     "output_type": "execute_result"
    }
   ],
   "source": [
    "df.isnull().sum()"
   ]
  },
  {
   "cell_type": "code",
   "execution_count": 34,
   "id": "5e62fd57-8874-4bce-9123-949af4670d97",
   "metadata": {},
   "outputs": [],
   "source": [
    "df['Date / Time'] = pd.to_datetime(df['Date / Time'], format='%A, %B %d, %Y')"
   ]
  },
  {
   "cell_type": "code",
   "execution_count": 36,
   "id": "9057e598-0f7b-4fe5-9b65-bfd93228365d",
   "metadata": {},
   "outputs": [
    {
     "data": {
      "text/html": [
       "<div>\n",
       "<style scoped>\n",
       "    .dataframe tbody tr th:only-of-type {\n",
       "        vertical-align: middle;\n",
       "    }\n",
       "\n",
       "    .dataframe tbody tr th {\n",
       "        vertical-align: top;\n",
       "    }\n",
       "\n",
       "    .dataframe thead th {\n",
       "        text-align: right;\n",
       "    }\n",
       "</style>\n",
       "<table border=\"1\" class=\"dataframe\">\n",
       "  <thead>\n",
       "    <tr style=\"text-align: right;\">\n",
       "      <th></th>\n",
       "      <th>Date / Time</th>\n",
       "      <th>Mode</th>\n",
       "      <th>Category</th>\n",
       "      <th>Sub category</th>\n",
       "      <th>Income/Expense</th>\n",
       "      <th>Debit/Credit</th>\n",
       "    </tr>\n",
       "  </thead>\n",
       "  <tbody>\n",
       "    <tr>\n",
       "      <th>0</th>\n",
       "      <td>2021-01-01</td>\n",
       "      <td>CUB - online payment</td>\n",
       "      <td>Allowance</td>\n",
       "      <td>From dad</td>\n",
       "      <td>Income</td>\n",
       "      <td>8000.0</td>\n",
       "    </tr>\n",
       "    <tr>\n",
       "      <th>1</th>\n",
       "      <td>2021-01-01</td>\n",
       "      <td>CUB - online payment</td>\n",
       "      <td>Food</td>\n",
       "      <td>Snacks</td>\n",
       "      <td>Expense</td>\n",
       "      <td>85.0</td>\n",
       "    </tr>\n",
       "    <tr>\n",
       "      <th>2</th>\n",
       "      <td>2021-01-03</td>\n",
       "      <td>CUB - online payment</td>\n",
       "      <td>Other</td>\n",
       "      <td>From dad</td>\n",
       "      <td>Income</td>\n",
       "      <td>500.0</td>\n",
       "    </tr>\n",
       "    <tr>\n",
       "      <th>3</th>\n",
       "      <td>2021-01-03</td>\n",
       "      <td>CUB - online payment</td>\n",
       "      <td>Household</td>\n",
       "      <td>Stuffs</td>\n",
       "      <td>Expense</td>\n",
       "      <td>6667.0</td>\n",
       "    </tr>\n",
       "    <tr>\n",
       "      <th>4</th>\n",
       "      <td>2021-01-03</td>\n",
       "      <td>CUB - online payment</td>\n",
       "      <td>Transportation</td>\n",
       "      <td>Metro</td>\n",
       "      <td>Expense</td>\n",
       "      <td>30.0</td>\n",
       "    </tr>\n",
       "  </tbody>\n",
       "</table>\n",
       "</div>"
      ],
      "text/plain": [
       "  Date / Time                  Mode        Category Sub category  \\\n",
       "0  2021-01-01  CUB - online payment       Allowance     From dad   \n",
       "1  2021-01-01  CUB - online payment            Food       Snacks   \n",
       "2  2021-01-03  CUB - online payment           Other     From dad   \n",
       "3  2021-01-03  CUB - online payment       Household       Stuffs   \n",
       "4  2021-01-03  CUB - online payment  Transportation        Metro   \n",
       "\n",
       "  Income/Expense  Debit/Credit  \n",
       "0         Income        8000.0  \n",
       "1        Expense          85.0  \n",
       "2         Income         500.0  \n",
       "3        Expense        6667.0  \n",
       "4        Expense          30.0  "
      ]
     },
     "execution_count": 36,
     "metadata": {},
     "output_type": "execute_result"
    }
   ],
   "source": [
    "df.head()"
   ]
  },
  {
   "cell_type": "code",
   "execution_count": 38,
   "id": "d320789e-eaed-49e4-ab0e-d627a49a625f",
   "metadata": {},
   "outputs": [],
   "source": [
    "df['short_date'] = df['Date / Time'].dt.strftime('%Y-%m-%d')"
   ]
  },
  {
   "cell_type": "code",
   "execution_count": 40,
   "id": "6c5f7388-c4f1-4e07-8582-6e66ced1fd78",
   "metadata": {},
   "outputs": [],
   "source": [
    "df['day_name'] = df['Date / Time'].dt.day_name()"
   ]
  },
  {
   "cell_type": "code",
   "execution_count": 42,
   "id": "de7022f5-5b21-497c-a7b8-1018b034a1e3",
   "metadata": {},
   "outputs": [
    {
     "data": {
      "text/html": [
       "<div>\n",
       "<style scoped>\n",
       "    .dataframe tbody tr th:only-of-type {\n",
       "        vertical-align: middle;\n",
       "    }\n",
       "\n",
       "    .dataframe tbody tr th {\n",
       "        vertical-align: top;\n",
       "    }\n",
       "\n",
       "    .dataframe thead th {\n",
       "        text-align: right;\n",
       "    }\n",
       "</style>\n",
       "<table border=\"1\" class=\"dataframe\">\n",
       "  <thead>\n",
       "    <tr style=\"text-align: right;\">\n",
       "      <th></th>\n",
       "      <th>Date / Time</th>\n",
       "      <th>Mode</th>\n",
       "      <th>Category</th>\n",
       "      <th>Sub category</th>\n",
       "      <th>Income/Expense</th>\n",
       "      <th>Debit/Credit</th>\n",
       "      <th>short_date</th>\n",
       "      <th>day_name</th>\n",
       "    </tr>\n",
       "  </thead>\n",
       "  <tbody>\n",
       "    <tr>\n",
       "      <th>0</th>\n",
       "      <td>2021-01-01</td>\n",
       "      <td>CUB - online payment</td>\n",
       "      <td>Allowance</td>\n",
       "      <td>From dad</td>\n",
       "      <td>Income</td>\n",
       "      <td>8000.0</td>\n",
       "      <td>2021-01-01</td>\n",
       "      <td>Friday</td>\n",
       "    </tr>\n",
       "    <tr>\n",
       "      <th>1</th>\n",
       "      <td>2021-01-01</td>\n",
       "      <td>CUB - online payment</td>\n",
       "      <td>Food</td>\n",
       "      <td>Snacks</td>\n",
       "      <td>Expense</td>\n",
       "      <td>85.0</td>\n",
       "      <td>2021-01-01</td>\n",
       "      <td>Friday</td>\n",
       "    </tr>\n",
       "    <tr>\n",
       "      <th>2</th>\n",
       "      <td>2021-01-03</td>\n",
       "      <td>CUB - online payment</td>\n",
       "      <td>Other</td>\n",
       "      <td>From dad</td>\n",
       "      <td>Income</td>\n",
       "      <td>500.0</td>\n",
       "      <td>2021-01-03</td>\n",
       "      <td>Sunday</td>\n",
       "    </tr>\n",
       "    <tr>\n",
       "      <th>3</th>\n",
       "      <td>2021-01-03</td>\n",
       "      <td>CUB - online payment</td>\n",
       "      <td>Household</td>\n",
       "      <td>Stuffs</td>\n",
       "      <td>Expense</td>\n",
       "      <td>6667.0</td>\n",
       "      <td>2021-01-03</td>\n",
       "      <td>Sunday</td>\n",
       "    </tr>\n",
       "    <tr>\n",
       "      <th>4</th>\n",
       "      <td>2021-01-03</td>\n",
       "      <td>CUB - online payment</td>\n",
       "      <td>Transportation</td>\n",
       "      <td>Metro</td>\n",
       "      <td>Expense</td>\n",
       "      <td>30.0</td>\n",
       "      <td>2021-01-03</td>\n",
       "      <td>Sunday</td>\n",
       "    </tr>\n",
       "  </tbody>\n",
       "</table>\n",
       "</div>"
      ],
      "text/plain": [
       "  Date / Time                  Mode        Category Sub category  \\\n",
       "0  2021-01-01  CUB - online payment       Allowance     From dad   \n",
       "1  2021-01-01  CUB - online payment            Food       Snacks   \n",
       "2  2021-01-03  CUB - online payment           Other     From dad   \n",
       "3  2021-01-03  CUB - online payment       Household       Stuffs   \n",
       "4  2021-01-03  CUB - online payment  Transportation        Metro   \n",
       "\n",
       "  Income/Expense  Debit/Credit  short_date day_name  \n",
       "0         Income        8000.0  2021-01-01   Friday  \n",
       "1        Expense          85.0  2021-01-01   Friday  \n",
       "2         Income         500.0  2021-01-03   Sunday  \n",
       "3        Expense        6667.0  2021-01-03   Sunday  \n",
       "4        Expense          30.0  2021-01-03   Sunday  "
      ]
     },
     "execution_count": 42,
     "metadata": {},
     "output_type": "execute_result"
    }
   ],
   "source": [
    "df.head()"
   ]
  },
  {
   "cell_type": "code",
   "execution_count": 44,
   "id": "b3f57172-0a97-4ddc-8102-0124ff01462f",
   "metadata": {},
   "outputs": [],
   "source": [
    "df.to_csv(\"personal_new_data.csv\", index=False)\n"
   ]
  },
  {
   "cell_type": "code",
   "execution_count": 46,
   "id": "991cb185-cbb8-42cb-bb7a-29619a7f7a18",
   "metadata": {},
   "outputs": [
    {
     "data": {
      "text/html": [
       "<div>\n",
       "<style scoped>\n",
       "    .dataframe tbody tr th:only-of-type {\n",
       "        vertical-align: middle;\n",
       "    }\n",
       "\n",
       "    .dataframe tbody tr th {\n",
       "        vertical-align: top;\n",
       "    }\n",
       "\n",
       "    .dataframe thead th {\n",
       "        text-align: right;\n",
       "    }\n",
       "</style>\n",
       "<table border=\"1\" class=\"dataframe\">\n",
       "  <thead>\n",
       "    <tr style=\"text-align: right;\">\n",
       "      <th></th>\n",
       "      <th>Date / Time</th>\n",
       "      <th>Mode</th>\n",
       "      <th>Category</th>\n",
       "      <th>Sub category</th>\n",
       "      <th>Income/Expense</th>\n",
       "      <th>Debit/Credit</th>\n",
       "      <th>short_date</th>\n",
       "      <th>day_name</th>\n",
       "    </tr>\n",
       "  </thead>\n",
       "  <tbody>\n",
       "    <tr>\n",
       "      <th>0</th>\n",
       "      <td>2021-01-01</td>\n",
       "      <td>CUB - online payment</td>\n",
       "      <td>Allowance</td>\n",
       "      <td>From dad</td>\n",
       "      <td>Income</td>\n",
       "      <td>8000.0</td>\n",
       "      <td>2021-01-01</td>\n",
       "      <td>Friday</td>\n",
       "    </tr>\n",
       "    <tr>\n",
       "      <th>1</th>\n",
       "      <td>2021-01-01</td>\n",
       "      <td>CUB - online payment</td>\n",
       "      <td>Food</td>\n",
       "      <td>Snacks</td>\n",
       "      <td>Expense</td>\n",
       "      <td>85.0</td>\n",
       "      <td>2021-01-01</td>\n",
       "      <td>Friday</td>\n",
       "    </tr>\n",
       "    <tr>\n",
       "      <th>2</th>\n",
       "      <td>2021-01-03</td>\n",
       "      <td>CUB - online payment</td>\n",
       "      <td>Other</td>\n",
       "      <td>From dad</td>\n",
       "      <td>Income</td>\n",
       "      <td>500.0</td>\n",
       "      <td>2021-01-03</td>\n",
       "      <td>Sunday</td>\n",
       "    </tr>\n",
       "    <tr>\n",
       "      <th>3</th>\n",
       "      <td>2021-01-03</td>\n",
       "      <td>CUB - online payment</td>\n",
       "      <td>Household</td>\n",
       "      <td>Stuffs</td>\n",
       "      <td>Expense</td>\n",
       "      <td>6667.0</td>\n",
       "      <td>2021-01-03</td>\n",
       "      <td>Sunday</td>\n",
       "    </tr>\n",
       "    <tr>\n",
       "      <th>4</th>\n",
       "      <td>2021-01-03</td>\n",
       "      <td>CUB - online payment</td>\n",
       "      <td>Transportation</td>\n",
       "      <td>Metro</td>\n",
       "      <td>Expense</td>\n",
       "      <td>30.0</td>\n",
       "      <td>2021-01-03</td>\n",
       "      <td>Sunday</td>\n",
       "    </tr>\n",
       "  </tbody>\n",
       "</table>\n",
       "</div>"
      ],
      "text/plain": [
       "  Date / Time                  Mode        Category Sub category  \\\n",
       "0  2021-01-01  CUB - online payment       Allowance     From dad   \n",
       "1  2021-01-01  CUB - online payment            Food       Snacks   \n",
       "2  2021-01-03  CUB - online payment           Other     From dad   \n",
       "3  2021-01-03  CUB - online payment       Household       Stuffs   \n",
       "4  2021-01-03  CUB - online payment  Transportation        Metro   \n",
       "\n",
       "  Income/Expense  Debit/Credit  short_date day_name  \n",
       "0         Income        8000.0  2021-01-01   Friday  \n",
       "1        Expense          85.0  2021-01-01   Friday  \n",
       "2         Income         500.0  2021-01-03   Sunday  \n",
       "3        Expense        6667.0  2021-01-03   Sunday  \n",
       "4        Expense          30.0  2021-01-03   Sunday  "
      ]
     },
     "execution_count": 46,
     "metadata": {},
     "output_type": "execute_result"
    }
   ],
   "source": [
    "df.head()"
   ]
  },
  {
   "cell_type": "code",
   "execution_count": 48,
   "id": "e64fa465-9a35-419a-8bfb-2af4b133ec6d",
   "metadata": {},
   "outputs": [],
   "source": [
    "df.drop(columns=['Date / Time'], inplace=True)"
   ]
  },
  {
   "cell_type": "code",
   "execution_count": 50,
   "id": "abeff2ba-1f62-4eee-9ff9-4f734fdba6b8",
   "metadata": {},
   "outputs": [
    {
     "data": {
      "text/html": [
       "<div>\n",
       "<style scoped>\n",
       "    .dataframe tbody tr th:only-of-type {\n",
       "        vertical-align: middle;\n",
       "    }\n",
       "\n",
       "    .dataframe tbody tr th {\n",
       "        vertical-align: top;\n",
       "    }\n",
       "\n",
       "    .dataframe thead th {\n",
       "        text-align: right;\n",
       "    }\n",
       "</style>\n",
       "<table border=\"1\" class=\"dataframe\">\n",
       "  <thead>\n",
       "    <tr style=\"text-align: right;\">\n",
       "      <th></th>\n",
       "      <th>Mode</th>\n",
       "      <th>Category</th>\n",
       "      <th>Sub category</th>\n",
       "      <th>Income/Expense</th>\n",
       "      <th>Debit/Credit</th>\n",
       "      <th>short_date</th>\n",
       "      <th>day_name</th>\n",
       "    </tr>\n",
       "  </thead>\n",
       "  <tbody>\n",
       "    <tr>\n",
       "      <th>0</th>\n",
       "      <td>CUB - online payment</td>\n",
       "      <td>Allowance</td>\n",
       "      <td>From dad</td>\n",
       "      <td>Income</td>\n",
       "      <td>8000.0</td>\n",
       "      <td>2021-01-01</td>\n",
       "      <td>Friday</td>\n",
       "    </tr>\n",
       "    <tr>\n",
       "      <th>1</th>\n",
       "      <td>CUB - online payment</td>\n",
       "      <td>Food</td>\n",
       "      <td>Snacks</td>\n",
       "      <td>Expense</td>\n",
       "      <td>85.0</td>\n",
       "      <td>2021-01-01</td>\n",
       "      <td>Friday</td>\n",
       "    </tr>\n",
       "    <tr>\n",
       "      <th>2</th>\n",
       "      <td>CUB - online payment</td>\n",
       "      <td>Other</td>\n",
       "      <td>From dad</td>\n",
       "      <td>Income</td>\n",
       "      <td>500.0</td>\n",
       "      <td>2021-01-03</td>\n",
       "      <td>Sunday</td>\n",
       "    </tr>\n",
       "    <tr>\n",
       "      <th>3</th>\n",
       "      <td>CUB - online payment</td>\n",
       "      <td>Household</td>\n",
       "      <td>Stuffs</td>\n",
       "      <td>Expense</td>\n",
       "      <td>6667.0</td>\n",
       "      <td>2021-01-03</td>\n",
       "      <td>Sunday</td>\n",
       "    </tr>\n",
       "    <tr>\n",
       "      <th>4</th>\n",
       "      <td>CUB - online payment</td>\n",
       "      <td>Transportation</td>\n",
       "      <td>Metro</td>\n",
       "      <td>Expense</td>\n",
       "      <td>30.0</td>\n",
       "      <td>2021-01-03</td>\n",
       "      <td>Sunday</td>\n",
       "    </tr>\n",
       "  </tbody>\n",
       "</table>\n",
       "</div>"
      ],
      "text/plain": [
       "                   Mode        Category Sub category Income/Expense  \\\n",
       "0  CUB - online payment       Allowance     From dad         Income   \n",
       "1  CUB - online payment            Food       Snacks        Expense   \n",
       "2  CUB - online payment           Other     From dad         Income   \n",
       "3  CUB - online payment       Household       Stuffs        Expense   \n",
       "4  CUB - online payment  Transportation        Metro        Expense   \n",
       "\n",
       "   Debit/Credit  short_date day_name  \n",
       "0        8000.0  2021-01-01   Friday  \n",
       "1          85.0  2021-01-01   Friday  \n",
       "2         500.0  2021-01-03   Sunday  \n",
       "3        6667.0  2021-01-03   Sunday  \n",
       "4          30.0  2021-01-03   Sunday  "
      ]
     },
     "execution_count": 50,
     "metadata": {},
     "output_type": "execute_result"
    }
   ],
   "source": [
    "df.head()"
   ]
  },
  {
   "cell_type": "code",
   "execution_count": 52,
   "id": "a290a7a4-55a9-4b49-a946-7ae3da90f3d7",
   "metadata": {},
   "outputs": [],
   "source": [
    "df.columns = df.columns.str.strip() "
   ]
  },
  {
   "cell_type": "code",
   "execution_count": 53,
   "id": "448ca983-09ea-498b-85bc-1887cf5479a9",
   "metadata": {},
   "outputs": [
    {
     "data": {
      "text/html": [
       "<div>\n",
       "<style scoped>\n",
       "    .dataframe tbody tr th:only-of-type {\n",
       "        vertical-align: middle;\n",
       "    }\n",
       "\n",
       "    .dataframe tbody tr th {\n",
       "        vertical-align: top;\n",
       "    }\n",
       "\n",
       "    .dataframe thead th {\n",
       "        text-align: right;\n",
       "    }\n",
       "</style>\n",
       "<table border=\"1\" class=\"dataframe\">\n",
       "  <thead>\n",
       "    <tr style=\"text-align: right;\">\n",
       "      <th></th>\n",
       "      <th>Mode</th>\n",
       "      <th>Category</th>\n",
       "      <th>Sub category</th>\n",
       "      <th>Income/Expense</th>\n",
       "      <th>Debit/Credit</th>\n",
       "      <th>short_date</th>\n",
       "      <th>day_name</th>\n",
       "    </tr>\n",
       "  </thead>\n",
       "  <tbody>\n",
       "    <tr>\n",
       "      <th>0</th>\n",
       "      <td>CUB - online payment</td>\n",
       "      <td>Allowance</td>\n",
       "      <td>From dad</td>\n",
       "      <td>Income</td>\n",
       "      <td>8000.0</td>\n",
       "      <td>2021-01-01</td>\n",
       "      <td>Friday</td>\n",
       "    </tr>\n",
       "    <tr>\n",
       "      <th>1</th>\n",
       "      <td>CUB - online payment</td>\n",
       "      <td>Food</td>\n",
       "      <td>Snacks</td>\n",
       "      <td>Expense</td>\n",
       "      <td>85.0</td>\n",
       "      <td>2021-01-01</td>\n",
       "      <td>Friday</td>\n",
       "    </tr>\n",
       "    <tr>\n",
       "      <th>2</th>\n",
       "      <td>CUB - online payment</td>\n",
       "      <td>Other</td>\n",
       "      <td>From dad</td>\n",
       "      <td>Income</td>\n",
       "      <td>500.0</td>\n",
       "      <td>2021-01-03</td>\n",
       "      <td>Sunday</td>\n",
       "    </tr>\n",
       "    <tr>\n",
       "      <th>3</th>\n",
       "      <td>CUB - online payment</td>\n",
       "      <td>Household</td>\n",
       "      <td>Stuffs</td>\n",
       "      <td>Expense</td>\n",
       "      <td>6667.0</td>\n",
       "      <td>2021-01-03</td>\n",
       "      <td>Sunday</td>\n",
       "    </tr>\n",
       "    <tr>\n",
       "      <th>4</th>\n",
       "      <td>CUB - online payment</td>\n",
       "      <td>Transportation</td>\n",
       "      <td>Metro</td>\n",
       "      <td>Expense</td>\n",
       "      <td>30.0</td>\n",
       "      <td>2021-01-03</td>\n",
       "      <td>Sunday</td>\n",
       "    </tr>\n",
       "  </tbody>\n",
       "</table>\n",
       "</div>"
      ],
      "text/plain": [
       "                   Mode        Category Sub category Income/Expense  \\\n",
       "0  CUB - online payment       Allowance     From dad         Income   \n",
       "1  CUB - online payment            Food       Snacks        Expense   \n",
       "2  CUB - online payment           Other     From dad         Income   \n",
       "3  CUB - online payment       Household       Stuffs        Expense   \n",
       "4  CUB - online payment  Transportation        Metro        Expense   \n",
       "\n",
       "   Debit/Credit  short_date day_name  \n",
       "0        8000.0  2021-01-01   Friday  \n",
       "1          85.0  2021-01-01   Friday  \n",
       "2         500.0  2021-01-03   Sunday  \n",
       "3        6667.0  2021-01-03   Sunday  \n",
       "4          30.0  2021-01-03   Sunday  "
      ]
     },
     "execution_count": 53,
     "metadata": {},
     "output_type": "execute_result"
    }
   ],
   "source": [
    "df.head()"
   ]
  },
  {
   "cell_type": "code",
   "execution_count": 54,
   "id": "4a10ea51-7040-4512-9c65-ea63572fbfc3",
   "metadata": {},
   "outputs": [
    {
     "data": {
      "text/plain": [
       "Mode              0\n",
       "Category          0\n",
       "Sub category      0\n",
       "Income/Expense    0\n",
       "Debit/Credit      0\n",
       "short_date        0\n",
       "day_name          0\n",
       "dtype: int64"
      ]
     },
     "execution_count": 54,
     "metadata": {},
     "output_type": "execute_result"
    }
   ],
   "source": [
    "df.isnull().sum()\n"
   ]
  },
  {
   "cell_type": "code",
   "execution_count": 56,
   "id": "2fbcb229-c81c-4224-a48e-c8341115ca4c",
   "metadata": {},
   "outputs": [],
   "source": [
    "df.dropna(inplace=True)\n"
   ]
  },
  {
   "cell_type": "code",
   "execution_count": 58,
   "id": "d9771ca3-36d5-435f-b1f5-fe46e7c1c8dc",
   "metadata": {},
   "outputs": [],
   "source": [
    "df.drop_duplicates(inplace=True)\n"
   ]
  },
  {
   "cell_type": "code",
   "execution_count": 60,
   "id": "d6c8ed5c-3a83-4484-9bdd-b60805cff6e3",
   "metadata": {},
   "outputs": [],
   "source": [
    "df.to_csv(\"personal_new_data.csv\", index=False)\n"
   ]
  },
  {
   "cell_type": "code",
   "execution_count": 62,
   "id": "9319cf97-4281-49cc-bcd4-5841c3f073c3",
   "metadata": {},
   "outputs": [
    {
     "data": {
      "text/html": [
       "<div>\n",
       "<style scoped>\n",
       "    .dataframe tbody tr th:only-of-type {\n",
       "        vertical-align: middle;\n",
       "    }\n",
       "\n",
       "    .dataframe tbody tr th {\n",
       "        vertical-align: top;\n",
       "    }\n",
       "\n",
       "    .dataframe thead th {\n",
       "        text-align: right;\n",
       "    }\n",
       "</style>\n",
       "<table border=\"1\" class=\"dataframe\">\n",
       "  <thead>\n",
       "    <tr style=\"text-align: right;\">\n",
       "      <th></th>\n",
       "      <th>Mode</th>\n",
       "      <th>Category</th>\n",
       "      <th>Sub category</th>\n",
       "      <th>Income/Expense</th>\n",
       "      <th>Debit/Credit</th>\n",
       "      <th>short_date</th>\n",
       "      <th>day_name</th>\n",
       "    </tr>\n",
       "  </thead>\n",
       "  <tbody>\n",
       "    <tr>\n",
       "      <th>0</th>\n",
       "      <td>CUB - online payment</td>\n",
       "      <td>Allowance</td>\n",
       "      <td>From dad</td>\n",
       "      <td>Income</td>\n",
       "      <td>8000.0</td>\n",
       "      <td>2021-01-01</td>\n",
       "      <td>Friday</td>\n",
       "    </tr>\n",
       "    <tr>\n",
       "      <th>1</th>\n",
       "      <td>CUB - online payment</td>\n",
       "      <td>Food</td>\n",
       "      <td>Snacks</td>\n",
       "      <td>Expense</td>\n",
       "      <td>85.0</td>\n",
       "      <td>2021-01-01</td>\n",
       "      <td>Friday</td>\n",
       "    </tr>\n",
       "    <tr>\n",
       "      <th>2</th>\n",
       "      <td>CUB - online payment</td>\n",
       "      <td>Other</td>\n",
       "      <td>From dad</td>\n",
       "      <td>Income</td>\n",
       "      <td>500.0</td>\n",
       "      <td>2021-01-03</td>\n",
       "      <td>Sunday</td>\n",
       "    </tr>\n",
       "    <tr>\n",
       "      <th>3</th>\n",
       "      <td>CUB - online payment</td>\n",
       "      <td>Household</td>\n",
       "      <td>Stuffs</td>\n",
       "      <td>Expense</td>\n",
       "      <td>6667.0</td>\n",
       "      <td>2021-01-03</td>\n",
       "      <td>Sunday</td>\n",
       "    </tr>\n",
       "    <tr>\n",
       "      <th>4</th>\n",
       "      <td>CUB - online payment</td>\n",
       "      <td>Transportation</td>\n",
       "      <td>Metro</td>\n",
       "      <td>Expense</td>\n",
       "      <td>30.0</td>\n",
       "      <td>2021-01-03</td>\n",
       "      <td>Sunday</td>\n",
       "    </tr>\n",
       "  </tbody>\n",
       "</table>\n",
       "</div>"
      ],
      "text/plain": [
       "                   Mode        Category Sub category Income/Expense  \\\n",
       "0  CUB - online payment       Allowance     From dad         Income   \n",
       "1  CUB - online payment            Food       Snacks        Expense   \n",
       "2  CUB - online payment           Other     From dad         Income   \n",
       "3  CUB - online payment       Household       Stuffs        Expense   \n",
       "4  CUB - online payment  Transportation        Metro        Expense   \n",
       "\n",
       "   Debit/Credit  short_date day_name  \n",
       "0        8000.0  2021-01-01   Friday  \n",
       "1          85.0  2021-01-01   Friday  \n",
       "2         500.0  2021-01-03   Sunday  \n",
       "3        6667.0  2021-01-03   Sunday  \n",
       "4          30.0  2021-01-03   Sunday  "
      ]
     },
     "execution_count": 62,
     "metadata": {},
     "output_type": "execute_result"
    }
   ],
   "source": [
    "df.head()"
   ]
  },
  {
   "cell_type": "code",
   "execution_count": 64,
   "id": "2e666262-3e53-48f8-ac6e-3ec3530a857d",
   "metadata": {},
   "outputs": [
    {
     "name": "stdout",
     "output_type": "stream",
     "text": [
      "Total credit: 698147.0\n",
      "Total credit: 149853.28\n"
     ]
    }
   ],
   "source": [
    "total_credit = df[df['Income/Expense'] == 'Income']['Debit/Credit'].sum()\n",
    "print(\"Total credit:\", total_credit)\n",
    "total_debit = df[df['Income/Expense'] == 'Expense']['Debit/Credit'].sum()\n",
    "print(\"Total credit:\", total_debit)"
   ]
  },
  {
   "cell_type": "code",
   "execution_count": 66,
   "id": "e943fb51-1418-45a6-bc60-da6b315c45ff",
   "metadata": {},
   "outputs": [
    {
     "data": {
      "text/plain": [
       "225"
      ]
     },
     "execution_count": 66,
     "metadata": {},
     "output_type": "execute_result"
    }
   ],
   "source": [
    "df['Category'].count()"
   ]
  },
  {
   "cell_type": "code",
   "execution_count": 68,
   "id": "215b6728-51ec-4128-b98c-98f7dd941dc1",
   "metadata": {},
   "outputs": [
    {
     "data": {
      "text/plain": [
       "Category\n",
       "Food              114\n",
       "Other              50\n",
       "Transportation     26\n",
       "Household          12\n",
       "salary              9\n",
       "apparel             5\n",
       "Apparel             3\n",
       "Salary              3\n",
       "Allowance           2\n",
       "Education           1\n",
       "Name: count, dtype: int64"
      ]
     },
     "execution_count": 68,
     "metadata": {},
     "output_type": "execute_result"
    }
   ],
   "source": [
    "df['Category'].value_counts()"
   ]
  },
  {
   "cell_type": "code",
   "execution_count": 70,
   "id": "707b2647-2053-45a5-8b72-27e99083780c",
   "metadata": {},
   "outputs": [
    {
     "name": "stdout",
     "output_type": "stream",
     "text": [
      "                     Mode        Category           Sub category  \\\n",
      "0    CUB - online payment       Allowance               From dad   \n",
      "1    CUB - online payment            Food                 Snacks   \n",
      "2    CUB - online payment           Other               From dad   \n",
      "3    CUB - online payment       Household                 Stuffs   \n",
      "4    CUB - online payment  Transportation                  Metro   \n",
      "..                    ...             ...                    ...   \n",
      "220  CUB - online payment           Other            From Deepak   \n",
      "221  CUB - online payment            Food  Horlicks + kolakattai   \n",
      "222  CUB - online payment          Salary                 office   \n",
      "223  CUB - online payment  Transportation           Pg to office   \n",
      "224  CUB - online payment            Food              To barath   \n",
      "\n",
      "    Income/Expense  Debit/Credit  short_date  day_name  \n",
      "0           Income        8000.0  2021-01-01    Friday  \n",
      "1          Expense          85.0  2021-01-01    Friday  \n",
      "2           Income         500.0  2021-01-03    Sunday  \n",
      "3          Expense        6667.0  2021-01-03    Sunday  \n",
      "4          Expense          30.0  2021-01-03    Sunday  \n",
      "..             ...           ...         ...       ...  \n",
      "220         Income         250.0  2021-12-30  Thursday  \n",
      "221        Expense          25.0  2021-12-30  Thursday  \n",
      "222         Income       55530.0  2021-12-30  Thursday  \n",
      "223        Expense          43.0  2021-12-30  Thursday  \n",
      "224        Expense          20.0  2021-12-30  Thursday  \n",
      "\n",
      "[225 rows x 7 columns]\n"
     ]
    }
   ],
   "source": [
    "print(df)"
   ]
  },
  {
   "cell_type": "code",
   "execution_count": 82,
   "id": "977bcbc3-f303-4da7-aa1b-900d05ad4da7",
   "metadata": {},
   "outputs": [],
   "source": [
    "df['short_date'] = pd.to_datetime(df['short_date'], format='%Y-%m-%d')"
   ]
  },
  {
   "cell_type": "code",
   "execution_count": 84,
   "id": "83ee00d1-cbd1-48e7-baa8-21031ef313ce",
   "metadata": {},
   "outputs": [
    {
     "data": {
      "text/html": [
       "<div>\n",
       "<style scoped>\n",
       "    .dataframe tbody tr th:only-of-type {\n",
       "        vertical-align: middle;\n",
       "    }\n",
       "\n",
       "    .dataframe tbody tr th {\n",
       "        vertical-align: top;\n",
       "    }\n",
       "\n",
       "    .dataframe thead th {\n",
       "        text-align: right;\n",
       "    }\n",
       "</style>\n",
       "<table border=\"1\" class=\"dataframe\">\n",
       "  <thead>\n",
       "    <tr style=\"text-align: right;\">\n",
       "      <th></th>\n",
       "      <th>Mode</th>\n",
       "      <th>Category</th>\n",
       "      <th>Sub category</th>\n",
       "      <th>Income/Expense</th>\n",
       "      <th>Debit/Credit</th>\n",
       "      <th>short_date</th>\n",
       "      <th>day_name</th>\n",
       "    </tr>\n",
       "  </thead>\n",
       "  <tbody>\n",
       "    <tr>\n",
       "      <th>0</th>\n",
       "      <td>CUB - online payment</td>\n",
       "      <td>Allowance</td>\n",
       "      <td>From dad</td>\n",
       "      <td>Income</td>\n",
       "      <td>8000.0</td>\n",
       "      <td>2021-01-01</td>\n",
       "      <td>Friday</td>\n",
       "    </tr>\n",
       "    <tr>\n",
       "      <th>1</th>\n",
       "      <td>CUB - online payment</td>\n",
       "      <td>Food</td>\n",
       "      <td>Snacks</td>\n",
       "      <td>Expense</td>\n",
       "      <td>85.0</td>\n",
       "      <td>2021-01-01</td>\n",
       "      <td>Friday</td>\n",
       "    </tr>\n",
       "    <tr>\n",
       "      <th>2</th>\n",
       "      <td>CUB - online payment</td>\n",
       "      <td>Other</td>\n",
       "      <td>From dad</td>\n",
       "      <td>Income</td>\n",
       "      <td>500.0</td>\n",
       "      <td>2021-01-03</td>\n",
       "      <td>Sunday</td>\n",
       "    </tr>\n",
       "    <tr>\n",
       "      <th>3</th>\n",
       "      <td>CUB - online payment</td>\n",
       "      <td>Household</td>\n",
       "      <td>Stuffs</td>\n",
       "      <td>Expense</td>\n",
       "      <td>6667.0</td>\n",
       "      <td>2021-01-03</td>\n",
       "      <td>Sunday</td>\n",
       "    </tr>\n",
       "    <tr>\n",
       "      <th>4</th>\n",
       "      <td>CUB - online payment</td>\n",
       "      <td>Transportation</td>\n",
       "      <td>Metro</td>\n",
       "      <td>Expense</td>\n",
       "      <td>30.0</td>\n",
       "      <td>2021-01-03</td>\n",
       "      <td>Sunday</td>\n",
       "    </tr>\n",
       "  </tbody>\n",
       "</table>\n",
       "</div>"
      ],
      "text/plain": [
       "                   Mode        Category Sub category Income/Expense  \\\n",
       "0  CUB - online payment       Allowance     From dad         Income   \n",
       "1  CUB - online payment            Food       Snacks        Expense   \n",
       "2  CUB - online payment           Other     From dad         Income   \n",
       "3  CUB - online payment       Household       Stuffs        Expense   \n",
       "4  CUB - online payment  Transportation        Metro        Expense   \n",
       "\n",
       "   Debit/Credit short_date day_name  \n",
       "0        8000.0 2021-01-01   Friday  \n",
       "1          85.0 2021-01-01   Friday  \n",
       "2         500.0 2021-01-03   Sunday  \n",
       "3        6667.0 2021-01-03   Sunday  \n",
       "4          30.0 2021-01-03   Sunday  "
      ]
     },
     "execution_count": 84,
     "metadata": {},
     "output_type": "execute_result"
    }
   ],
   "source": [
    "df.head()"
   ]
  },
  {
   "cell_type": "code",
   "execution_count": 76,
   "id": "0e9a4ead-f84a-4884-bde0-9863a04aa69d",
   "metadata": {},
   "outputs": [
    {
     "data": {
      "text/plain": [
       "Mode               object\n",
       "Category           object\n",
       "Sub category       object\n",
       "Income/Expense     object\n",
       "Debit/Credit      float64\n",
       "short_date         object\n",
       "day_name           object\n",
       "dtype: object"
      ]
     },
     "execution_count": 76,
     "metadata": {},
     "output_type": "execute_result"
    }
   ],
   "source": [
    "df.dtypes"
   ]
  },
  {
   "cell_type": "raw",
   "id": "d4bccff2-577f-49ee-b787-95ac690403f3",
   "metadata": {},
   "source": [
    "income = df[df['Income/Expense'] == 'Income']"
   ]
  },
  {
   "cell_type": "code",
   "execution_count": 86,
   "id": "e6dd5d5b-8238-483e-8605-619fe068b262",
   "metadata": {},
   "outputs": [
    {
     "ename": "NameError",
     "evalue": "name 'income' is not defined",
     "output_type": "error",
     "traceback": [
      "\u001b[1;31m---------------------------------------------------------------------------\u001b[0m",
      "\u001b[1;31mNameError\u001b[0m                                 Traceback (most recent call last)",
      "Cell \u001b[1;32mIn[86], line 1\u001b[0m\n\u001b[1;32m----> 1\u001b[0m monthly_income_start \u001b[38;5;241m=\u001b[39m income\u001b[38;5;241m.\u001b[39mgroupby(\n\u001b[0;32m      2\u001b[0m     pd\u001b[38;5;241m.\u001b[39mGrouper(key\u001b[38;5;241m=\u001b[39m\u001b[38;5;124m'\u001b[39m\u001b[38;5;124mshort_date\u001b[39m\u001b[38;5;124m'\u001b[39m, freq\u001b[38;5;241m=\u001b[39m\u001b[38;5;124m'\u001b[39m\u001b[38;5;124mMS\u001b[39m\u001b[38;5;124m'\u001b[39m)\n\u001b[0;32m      3\u001b[0m )[\u001b[38;5;124m'\u001b[39m\u001b[38;5;124mDebit/Credit\u001b[39m\u001b[38;5;124m'\u001b[39m]\u001b[38;5;241m.\u001b[39msum()\n\u001b[0;32m      5\u001b[0m \u001b[38;5;28mprint\u001b[39m(monthly_income_start)\n",
      "\u001b[1;31mNameError\u001b[0m: name 'income' is not defined"
     ]
    }
   ],
   "source": [
    "monthly_income_start = income.groupby(\n",
    "    pd.Grouper(key='short_date', freq='MS')\n",
    ")['Debit/Credit'].sum()\n",
    "\n",
    "print(monthly_income_start)"
   ]
  },
  {
   "cell_type": "code",
   "execution_count": 88,
   "id": "ca56b962-4e29-4534-9381-63682c81b009",
   "metadata": {},
   "outputs": [
    {
     "data": {
      "text/html": [
       "<div>\n",
       "<style scoped>\n",
       "    .dataframe tbody tr th:only-of-type {\n",
       "        vertical-align: middle;\n",
       "    }\n",
       "\n",
       "    .dataframe tbody tr th {\n",
       "        vertical-align: top;\n",
       "    }\n",
       "\n",
       "    .dataframe thead th {\n",
       "        text-align: right;\n",
       "    }\n",
       "</style>\n",
       "<table border=\"1\" class=\"dataframe\">\n",
       "  <thead>\n",
       "    <tr style=\"text-align: right;\">\n",
       "      <th></th>\n",
       "      <th>Mode</th>\n",
       "      <th>Category</th>\n",
       "      <th>Sub category</th>\n",
       "      <th>Income/Expense</th>\n",
       "      <th>Debit/Credit</th>\n",
       "      <th>short_date</th>\n",
       "      <th>day_name</th>\n",
       "    </tr>\n",
       "  </thead>\n",
       "  <tbody>\n",
       "    <tr>\n",
       "      <th>0</th>\n",
       "      <td>CUB - online payment</td>\n",
       "      <td>Allowance</td>\n",
       "      <td>From dad</td>\n",
       "      <td>Income</td>\n",
       "      <td>8000.0</td>\n",
       "      <td>2021-01-01</td>\n",
       "      <td>Friday</td>\n",
       "    </tr>\n",
       "    <tr>\n",
       "      <th>1</th>\n",
       "      <td>CUB - online payment</td>\n",
       "      <td>Food</td>\n",
       "      <td>Snacks</td>\n",
       "      <td>Expense</td>\n",
       "      <td>85.0</td>\n",
       "      <td>2021-01-01</td>\n",
       "      <td>Friday</td>\n",
       "    </tr>\n",
       "    <tr>\n",
       "      <th>2</th>\n",
       "      <td>CUB - online payment</td>\n",
       "      <td>Other</td>\n",
       "      <td>From dad</td>\n",
       "      <td>Income</td>\n",
       "      <td>500.0</td>\n",
       "      <td>2021-01-03</td>\n",
       "      <td>Sunday</td>\n",
       "    </tr>\n",
       "    <tr>\n",
       "      <th>3</th>\n",
       "      <td>CUB - online payment</td>\n",
       "      <td>Household</td>\n",
       "      <td>Stuffs</td>\n",
       "      <td>Expense</td>\n",
       "      <td>6667.0</td>\n",
       "      <td>2021-01-03</td>\n",
       "      <td>Sunday</td>\n",
       "    </tr>\n",
       "    <tr>\n",
       "      <th>4</th>\n",
       "      <td>CUB - online payment</td>\n",
       "      <td>Transportation</td>\n",
       "      <td>Metro</td>\n",
       "      <td>Expense</td>\n",
       "      <td>30.0</td>\n",
       "      <td>2021-01-03</td>\n",
       "      <td>Sunday</td>\n",
       "    </tr>\n",
       "  </tbody>\n",
       "</table>\n",
       "</div>"
      ],
      "text/plain": [
       "                   Mode        Category Sub category Income/Expense  \\\n",
       "0  CUB - online payment       Allowance     From dad         Income   \n",
       "1  CUB - online payment            Food       Snacks        Expense   \n",
       "2  CUB - online payment           Other     From dad         Income   \n",
       "3  CUB - online payment       Household       Stuffs        Expense   \n",
       "4  CUB - online payment  Transportation        Metro        Expense   \n",
       "\n",
       "   Debit/Credit short_date day_name  \n",
       "0        8000.0 2021-01-01   Friday  \n",
       "1          85.0 2021-01-01   Friday  \n",
       "2         500.0 2021-01-03   Sunday  \n",
       "3        6667.0 2021-01-03   Sunday  \n",
       "4          30.0 2021-01-03   Sunday  "
      ]
     },
     "execution_count": 88,
     "metadata": {},
     "output_type": "execute_result"
    }
   ],
   "source": [
    "df.head()"
   ]
  },
  {
   "cell_type": "code",
   "execution_count": 113,
   "id": "beb0538d-f509-4724-8ab2-0b8ee9f3bd52",
   "metadata": {},
   "outputs": [],
   "source": [
    "df['Month'] = df['short_date'].dt.month"
   ]
  },
  {
   "cell_type": "code",
   "execution_count": 115,
   "id": "91ce8e95-d0e3-4b30-a96f-1910b04eac1b",
   "metadata": {},
   "outputs": [
    {
     "data": {
      "text/html": [
       "<div>\n",
       "<style scoped>\n",
       "    .dataframe tbody tr th:only-of-type {\n",
       "        vertical-align: middle;\n",
       "    }\n",
       "\n",
       "    .dataframe tbody tr th {\n",
       "        vertical-align: top;\n",
       "    }\n",
       "\n",
       "    .dataframe thead th {\n",
       "        text-align: right;\n",
       "    }\n",
       "</style>\n",
       "<table border=\"1\" class=\"dataframe\">\n",
       "  <thead>\n",
       "    <tr style=\"text-align: right;\">\n",
       "      <th></th>\n",
       "      <th>Mode</th>\n",
       "      <th>Category</th>\n",
       "      <th>Sub category</th>\n",
       "      <th>Income/Expense</th>\n",
       "      <th>Debit/Credit</th>\n",
       "      <th>short_date</th>\n",
       "      <th>day_name</th>\n",
       "      <th>Month</th>\n",
       "    </tr>\n",
       "  </thead>\n",
       "  <tbody>\n",
       "    <tr>\n",
       "      <th>0</th>\n",
       "      <td>CUB - online payment</td>\n",
       "      <td>Allowance</td>\n",
       "      <td>From dad</td>\n",
       "      <td>Income</td>\n",
       "      <td>8000.0</td>\n",
       "      <td>2021-01-01</td>\n",
       "      <td>Friday</td>\n",
       "      <td>1</td>\n",
       "    </tr>\n",
       "    <tr>\n",
       "      <th>1</th>\n",
       "      <td>CUB - online payment</td>\n",
       "      <td>Food</td>\n",
       "      <td>Snacks</td>\n",
       "      <td>Expense</td>\n",
       "      <td>85.0</td>\n",
       "      <td>2021-01-01</td>\n",
       "      <td>Friday</td>\n",
       "      <td>1</td>\n",
       "    </tr>\n",
       "    <tr>\n",
       "      <th>2</th>\n",
       "      <td>CUB - online payment</td>\n",
       "      <td>Other</td>\n",
       "      <td>From dad</td>\n",
       "      <td>Income</td>\n",
       "      <td>500.0</td>\n",
       "      <td>2021-01-03</td>\n",
       "      <td>Sunday</td>\n",
       "      <td>1</td>\n",
       "    </tr>\n",
       "    <tr>\n",
       "      <th>3</th>\n",
       "      <td>CUB - online payment</td>\n",
       "      <td>Household</td>\n",
       "      <td>Stuffs</td>\n",
       "      <td>Expense</td>\n",
       "      <td>6667.0</td>\n",
       "      <td>2021-01-03</td>\n",
       "      <td>Sunday</td>\n",
       "      <td>1</td>\n",
       "    </tr>\n",
       "    <tr>\n",
       "      <th>4</th>\n",
       "      <td>CUB - online payment</td>\n",
       "      <td>Transportation</td>\n",
       "      <td>Metro</td>\n",
       "      <td>Expense</td>\n",
       "      <td>30.0</td>\n",
       "      <td>2021-01-03</td>\n",
       "      <td>Sunday</td>\n",
       "      <td>1</td>\n",
       "    </tr>\n",
       "  </tbody>\n",
       "</table>\n",
       "</div>"
      ],
      "text/plain": [
       "                   Mode        Category Sub category Income/Expense  \\\n",
       "0  CUB - online payment       Allowance     From dad         Income   \n",
       "1  CUB - online payment            Food       Snacks        Expense   \n",
       "2  CUB - online payment           Other     From dad         Income   \n",
       "3  CUB - online payment       Household       Stuffs        Expense   \n",
       "4  CUB - online payment  Transportation        Metro        Expense   \n",
       "\n",
       "   Debit/Credit short_date day_name  Month  \n",
       "0        8000.0 2021-01-01   Friday      1  \n",
       "1          85.0 2021-01-01   Friday      1  \n",
       "2         500.0 2021-01-03   Sunday      1  \n",
       "3        6667.0 2021-01-03   Sunday      1  \n",
       "4          30.0 2021-01-03   Sunday      1  "
      ]
     },
     "execution_count": 115,
     "metadata": {},
     "output_type": "execute_result"
    }
   ],
   "source": [
    "df.head()"
   ]
  },
  {
   "cell_type": "code",
   "execution_count": 117,
   "id": "718f4866-5587-4c23-9137-083a8a8e8fbc",
   "metadata": {},
   "outputs": [],
   "source": [
    "df['month_name'] = pd.to_datetime(df['Month'], format='%m').dt.month_name()"
   ]
  },
  {
   "cell_type": "code",
   "execution_count": null,
   "id": "7bd6cb5e-b14a-4dbb-a7fd-36ffe9ffdfaf",
   "metadata": {},
   "outputs": [],
   "source": [
    "income = df[df['Income/Expense'] == 'Income']\n",
    "monthly_income = income.groupby(['Month','month_name'])['Debit/Credit'].sum()\n",
    "print(monthly_income)"
   ]
  },
  {
   "cell_type": "code",
   "execution_count": 391,
   "id": "701435fe-d538-4d3c-96ba-544b06f6eb59",
   "metadata": {},
   "outputs": [
    {
     "name": "stdout",
     "output_type": "stream",
     "text": [
      "Month  month_name\n",
      "1      January       13244.15\n",
      "2      February      17200.95\n",
      "3      March         11145.00\n",
      "4      April         20739.00\n",
      "5      May            8945.72\n",
      "6      June          12651.81\n",
      "7      July           8694.00\n",
      "8      August         5711.00\n",
      "9      September      6662.00\n",
      "10     October       13521.00\n",
      "11     November       7312.90\n",
      "12     December      24025.75\n",
      "Name: Debit/Credit, dtype: float64\n"
     ]
    }
   ],
   "source": [
    "income = df[df['Income/Expense'] == 'Expense']\n",
    "monthly_expense = income.groupby(['Month','month_name'])['Debit/Credit'].sum()\n",
    "print(monthly_expense)"
   ]
  },
  {
   "cell_type": "code",
   "execution_count": 393,
   "id": "256818cf-3272-42ea-986a-21d902faa7a7",
   "metadata": {},
   "outputs": [
    {
     "name": "stdout",
     "output_type": "stream",
     "text": [
      "The highest income is $ 71460.0 in (12, 'December')\n"
     ]
    }
   ],
   "source": [
    "max_income_value= monthly_income.max()\n",
    "max_income_month = monthly_income.idxmax()\n",
    "print (f\"The highest income is $ {max_income_value} in {max_income_month}\")"
   ]
  },
  {
   "cell_type": "code",
   "execution_count": 395,
   "id": "dcf327bd-1756-4f7c-8104-2d413b9d25b1",
   "metadata": {},
   "outputs": [
    {
     "name": "stdout",
     "output_type": "stream",
     "text": [
      "The highest spend is $ 24025.75 in (12, 'December')\n"
     ]
    }
   ],
   "source": [
    "max_expense_value= monthly_expense.max()\n",
    "max_expense_month = monthly_expense.idxmax()\n",
    "print (f\"The highest spend is $ {max_expense_value} in {max_expense_month}\")"
   ]
  },
  {
   "cell_type": "code",
   "execution_count": 101,
   "id": "9f6796db-ef36-430b-8e78-f826d773e230",
   "metadata": {
    "scrolled": true
   },
   "outputs": [
    {
     "name": "stdout",
     "output_type": "stream",
     "text": [
      "day_name\n",
      "Monday       55000.0\n",
      "Tuesday      55000.0\n",
      "Wednesday    55000.0\n",
      "Thursday     55530.0\n",
      "Friday       55140.0\n",
      "Saturday      5120.0\n",
      "Sunday       55240.0\n",
      "Name: Debit/Credit, dtype: float64\n"
     ]
    },
    {
     "name": "stderr",
     "output_type": "stream",
     "text": [
      "C:\\Users\\deche\\AppData\\Local\\Temp\\ipykernel_10608\\2050018572.py:3: FutureWarning: The default of observed=False is deprecated and will be changed to True in a future version of pandas. Pass observed=False to retain current behavior or observed=True to adopt the future default and silence this warning.\n",
      "  max_expense_perday = df.groupby('day_name')['Debit/Credit'].max()\n"
     ]
    }
   ],
   "source": [
    "day_order = ['Monday', 'Tuesday', 'Wednesday', 'Thursday', 'Friday', 'Saturday', 'Sunday']\n",
    "df['day_name'] = pd.Categorical(df['day_name'], categories=day_order, ordered=True)\n",
    "max_expense_perday = df.groupby('day_name')['Debit/Credit'].max()\n",
    "sorted_expense = max_expense_perday.sort_index()\n",
    "print(sorted_expense)"
   ]
  },
  {
   "cell_type": "code",
   "execution_count": 103,
   "id": "fc59a47d-6fef-4184-b434-95b1a7bbaea1",
   "metadata": {},
   "outputs": [
    {
     "name": "stdout",
     "output_type": "stream",
     "text": [
      "The highest expense was $55530.0 on Thursday.\n"
     ]
    }
   ],
   "source": [
    "max_day = max_expense_perday.idxmax()\n",
    "max_value = max_expense_perday.max()\n",
    "\n",
    "print(f\"The highest expense was ${max_value} on {max_day}.\")"
   ]
  },
  {
   "cell_type": "code",
   "execution_count": 105,
   "id": "6f44acd4-28dd-4edb-b348-d637d4e4c9dc",
   "metadata": {},
   "outputs": [
    {
     "name": "stdout",
     "output_type": "stream",
     "text": [
      "The lowest expense was $5120.0 on Saturday.\n"
     ]
    }
   ],
   "source": [
    "min_day = max_expense_perday.idxmin()\n",
    "min_value = max_expense_perday.min()\n",
    "\n",
    "print(f\"The lowest expense was ${min_value} on {min_day}.\")"
   ]
  },
  {
   "cell_type": "code",
   "execution_count": null,
   "id": "0e665421-560a-4e57-8918-645f4d671a6d",
   "metadata": {},
   "outputs": [],
   "source": []
  },
  {
   "cell_type": "code",
   "execution_count": null,
   "id": "4a0b549f-c7fd-4d9b-8394-e46bd93e5fd8",
   "metadata": {},
   "outputs": [],
   "source": []
  },
  {
   "cell_type": "code",
   "execution_count": null,
   "id": "16b686cb-da12-4bfa-ac13-632e1c65c69d",
   "metadata": {},
   "outputs": [],
   "source": []
  },
  {
   "cell_type": "code",
   "execution_count": null,
   "id": "c0107224-ffc6-42ea-9bc0-bdccbfcbfb23",
   "metadata": {},
   "outputs": [],
   "source": []
  },
  {
   "cell_type": "code",
   "execution_count": null,
   "id": "ee75f4d1-79b3-4fff-9f96-18f957ce88c6",
   "metadata": {},
   "outputs": [],
   "source": []
  },
  {
   "cell_type": "code",
   "execution_count": null,
   "id": "dc1a481b-1637-46eb-98b9-14e68ef9c1df",
   "metadata": {},
   "outputs": [],
   "source": []
  },
  {
   "cell_type": "code",
   "execution_count": null,
   "id": "58a8c9f4-5226-4da7-a5d9-0731bd2ecdc3",
   "metadata": {},
   "outputs": [],
   "source": []
  },
  {
   "cell_type": "code",
   "execution_count": null,
   "id": "9e0b6ac5-1955-4f9b-a841-35994f467d7f",
   "metadata": {},
   "outputs": [],
   "source": []
  },
  {
   "cell_type": "code",
   "execution_count": null,
   "id": "4b980148-63cb-409b-b82d-61f4c5462dc4",
   "metadata": {},
   "outputs": [],
   "source": []
  },
  {
   "cell_type": "code",
   "execution_count": null,
   "id": "66ef2fac-1aa8-4fd3-a919-92d0e9b54a58",
   "metadata": {},
   "outputs": [],
   "source": []
  }
 ],
 "metadata": {
  "kernelspec": {
   "display_name": "Python [conda env:base] *",
   "language": "python",
   "name": "conda-base-py"
  },
  "language_info": {
   "codemirror_mode": {
    "name": "ipython",
    "version": 3
   },
   "file_extension": ".py",
   "mimetype": "text/x-python",
   "name": "python",
   "nbconvert_exporter": "python",
   "pygments_lexer": "ipython3",
   "version": "3.12.7"
  }
 },
 "nbformat": 4,
 "nbformat_minor": 5
}
